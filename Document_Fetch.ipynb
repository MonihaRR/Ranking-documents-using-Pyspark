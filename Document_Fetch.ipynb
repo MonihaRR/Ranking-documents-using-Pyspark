{
  "nbformat": 4,
  "nbformat_minor": 0,
  "metadata": {
    "colab": {
      "name": "CSC502databse.ipynb",
      "provenance": [],
      "collapsed_sections": []
    },
    "kernelspec": {
      "name": "python3",
      "display_name": "Python 3"
    },
    "language_info": {
      "name": "python"
    },
    "widgets": {
      "application/vnd.jupyter.widget-state+json": {
        "35595833a4dd41bc95276452fd0e3873": {
          "model_module": "@jupyter-widgets/controls",
          "model_name": "TextModel",
          "state": {
            "_view_name": "TextView",
            "style": "IPY_MODEL_58d1b086df9946cca27bde497919e017",
            "_dom_classes": [],
            "description": "",
            "_model_name": "TextModel",
            "placeholder": "Enter search query",
            "_view_module": "@jupyter-widgets/controls",
            "_model_module_version": "1.5.0",
            "value": "",
            "_view_count": null,
            "disabled": false,
            "_view_module_version": "1.5.0",
            "continuous_update": true,
            "description_tooltip": null,
            "_model_module": "@jupyter-widgets/controls",
            "layout": "IPY_MODEL_f5270673bf5e475d8d3d1f4cc6436e18"
          }
        },
        "58d1b086df9946cca27bde497919e017": {
          "model_module": "@jupyter-widgets/controls",
          "model_name": "DescriptionStyleModel",
          "state": {
            "_view_name": "StyleView",
            "_model_name": "DescriptionStyleModel",
            "description_width": "",
            "_view_module": "@jupyter-widgets/base",
            "_model_module_version": "1.5.0",
            "_view_count": null,
            "_view_module_version": "1.2.0",
            "_model_module": "@jupyter-widgets/controls"
          }
        },
        "f5270673bf5e475d8d3d1f4cc6436e18": {
          "model_module": "@jupyter-widgets/base",
          "model_name": "LayoutModel",
          "state": {
            "_view_name": "LayoutView",
            "grid_template_rows": null,
            "right": null,
            "justify_content": null,
            "_view_module": "@jupyter-widgets/base",
            "overflow": null,
            "_model_module_version": "1.2.0",
            "_view_count": null,
            "flex_flow": null,
            "width": null,
            "min_width": null,
            "border": null,
            "align_items": null,
            "bottom": null,
            "_model_module": "@jupyter-widgets/base",
            "top": null,
            "grid_column": null,
            "overflow_y": null,
            "overflow_x": null,
            "grid_auto_flow": null,
            "grid_area": null,
            "grid_template_columns": null,
            "flex": null,
            "_model_name": "LayoutModel",
            "justify_items": null,
            "grid_row": null,
            "max_height": null,
            "align_content": null,
            "visibility": null,
            "align_self": null,
            "height": null,
            "min_height": null,
            "padding": null,
            "grid_auto_rows": null,
            "grid_gap": null,
            "max_width": null,
            "order": null,
            "_view_module_version": "1.2.0",
            "grid_template_areas": null,
            "object_position": null,
            "object_fit": null,
            "grid_auto_columns": null,
            "margin": null,
            "display": null,
            "left": null
          }
        },
        "b2da9f12bd3746e4809d718c3f181682": {
          "model_module": "@jupyter-widgets/controls",
          "model_name": "ButtonModel",
          "state": {
            "_view_name": "ButtonView",
            "style": "IPY_MODEL_16b4a6b9216f4c418b788655e2a4dbd7",
            "_dom_classes": [],
            "description": "Search",
            "_model_name": "ButtonModel",
            "button_style": "",
            "_view_module": "@jupyter-widgets/controls",
            "_model_module_version": "1.5.0",
            "tooltip": "",
            "_view_count": null,
            "disabled": false,
            "_view_module_version": "1.5.0",
            "layout": "IPY_MODEL_2f678beda62242d39f19ca5dc57d4a59",
            "_model_module": "@jupyter-widgets/controls",
            "icon": ""
          }
        },
        "16b4a6b9216f4c418b788655e2a4dbd7": {
          "model_module": "@jupyter-widgets/controls",
          "model_name": "ButtonStyleModel",
          "state": {
            "_view_name": "StyleView",
            "_model_name": "ButtonStyleModel",
            "_view_module": "@jupyter-widgets/base",
            "_model_module_version": "1.5.0",
            "_view_count": null,
            "button_color": null,
            "font_weight": "",
            "_view_module_version": "1.2.0",
            "_model_module": "@jupyter-widgets/controls"
          }
        },
        "2f678beda62242d39f19ca5dc57d4a59": {
          "model_module": "@jupyter-widgets/base",
          "model_name": "LayoutModel",
          "state": {
            "_view_name": "LayoutView",
            "grid_template_rows": null,
            "right": null,
            "justify_content": null,
            "_view_module": "@jupyter-widgets/base",
            "overflow": null,
            "_model_module_version": "1.2.0",
            "_view_count": null,
            "flex_flow": null,
            "width": null,
            "min_width": null,
            "border": null,
            "align_items": null,
            "bottom": null,
            "_model_module": "@jupyter-widgets/base",
            "top": null,
            "grid_column": null,
            "overflow_y": null,
            "overflow_x": null,
            "grid_auto_flow": null,
            "grid_area": null,
            "grid_template_columns": null,
            "flex": null,
            "_model_name": "LayoutModel",
            "justify_items": null,
            "grid_row": null,
            "max_height": null,
            "align_content": null,
            "visibility": null,
            "align_self": null,
            "height": null,
            "min_height": null,
            "padding": null,
            "grid_auto_rows": null,
            "grid_gap": null,
            "max_width": null,
            "order": null,
            "_view_module_version": "1.2.0",
            "grid_template_areas": null,
            "object_position": null,
            "object_fit": null,
            "grid_auto_columns": null,
            "margin": null,
            "display": null,
            "left": null
          }
        },
        "e7750f2edf51459b838d1e013364b5df": {
          "model_module": "@jupyter-widgets/output",
          "model_name": "OutputModel",
          "state": {
            "_view_name": "OutputView",
            "msg_id": "",
            "_dom_classes": [],
            "_model_name": "OutputModel",
            "outputs": [],
            "_view_module": "@jupyter-widgets/output",
            "_model_module_version": "1.0.0",
            "_view_count": null,
            "_view_module_version": "1.0.0",
            "layout": "IPY_MODEL_f38036f6963d4d3c90427fa6b5c9c68e",
            "_model_module": "@jupyter-widgets/output"
          }
        },
        "f38036f6963d4d3c90427fa6b5c9c68e": {
          "model_module": "@jupyter-widgets/base",
          "model_name": "LayoutModel",
          "state": {
            "_view_name": "LayoutView",
            "grid_template_rows": null,
            "right": null,
            "justify_content": null,
            "_view_module": "@jupyter-widgets/base",
            "overflow": null,
            "_model_module_version": "1.2.0",
            "_view_count": null,
            "flex_flow": null,
            "width": null,
            "min_width": null,
            "border": null,
            "align_items": null,
            "bottom": null,
            "_model_module": "@jupyter-widgets/base",
            "top": null,
            "grid_column": null,
            "overflow_y": null,
            "overflow_x": null,
            "grid_auto_flow": null,
            "grid_area": null,
            "grid_template_columns": null,
            "flex": null,
            "_model_name": "LayoutModel",
            "justify_items": null,
            "grid_row": null,
            "max_height": null,
            "align_content": null,
            "visibility": null,
            "align_self": null,
            "height": null,
            "min_height": null,
            "padding": null,
            "grid_auto_rows": null,
            "grid_gap": null,
            "max_width": null,
            "order": null,
            "_view_module_version": "1.2.0",
            "grid_template_areas": null,
            "object_position": null,
            "object_fit": null,
            "grid_auto_columns": null,
            "margin": null,
            "display": null,
            "left": null
          }
        }
      }
    }
  },
  "cells": [
    {
      "cell_type": "code",
      "metadata": {
        "id": "T1CGtVWuDqYS",
        "colab": {
          "base_uri": "https://localhost:8080/"
        },
        "outputId": "b0944cee-267a-409b-e134-a59b4c227571"
      },
      "source": [
        "from google.colab import drive\n",
        "drive.mount('/content/drive')"
      ],
      "execution_count": 2,
      "outputs": [
        {
          "output_type": "stream",
          "text": [
            "Drive already mounted at /content/drive; to attempt to forcibly remount, call drive.mount(\"/content/drive\", force_remount=True).\n"
          ],
          "name": "stdout"
        }
      ]
    },
    {
      "cell_type": "code",
      "metadata": {
        "id": "MNdxKS33DsYG",
        "colab": {
          "base_uri": "https://localhost:8080/"
        },
        "outputId": "8185c0dc-aaf2-4399-d502-b597a7c9822f"
      },
      "source": [
        "import sqlite3\n",
        "# connect database\n",
        "conn = sqlite3.connect('test.db')\n",
        "print('Opened database successfully.');\n",
        "c = conn.cursor()"
      ],
      "execution_count": 3,
      "outputs": [
        {
          "output_type": "stream",
          "text": [
            "Opened database successfully.\n"
          ],
          "name": "stdout"
        }
      ]
    },
    {
      "cell_type": "code",
      "metadata": {
        "colab": {
          "base_uri": "https://localhost:8080/"
        },
        "id": "90bSl1F2CGxd",
        "outputId": "38031825-e453-4667-85bd-cc7aa6e3435b"
      },
      "source": [
        "c.execute('''DROP TABLE IF EXISTS postings ''')\n",
        "c.execute(''' \n",
        "        CREATE TABLE IF NOT EXISTS postings\n",
        "       (word VARCHAR(100) PRIMARY KEY,\n",
        "       postinglist_freq_tfidf TEXT );''')\n",
        "\n",
        "print('Table postings created successfully.');\n",
        "\n",
        "c.execute('''DROP TABLE IF EXISTS docmag ''')\n",
        "c.execute(''' \n",
        "        CREATE TABLE IF NOT EXISTS docmag\n",
        "       (docid INT PRIMARY KEY     NOT NULL,\n",
        "       maxf INT     NOT NULL,\n",
        "       mag FLOAT);''')\n",
        "print('Table docmag created successfully.');\n",
        "\n",
        "conn.commit()"
      ],
      "execution_count": 4,
      "outputs": [
        {
          "output_type": "stream",
          "text": [
            "Table postings created successfully.\n",
            "Table docmag created successfully.\n"
          ],
          "name": "stdout"
        }
      ]
    },
    {
      "cell_type": "code",
      "metadata": {
        "colab": {
          "base_uri": "https://localhost:8080/"
        },
        "id": "uO5d2ZTACKqQ",
        "outputId": "de2ee9c1-7d3f-43f9-bf48-ffa32b5ac50f"
      },
      "source": [
        "\n",
        "# store data to database\n",
        "import re\n",
        "conn = sqlite3.connect('test.db')\n",
        "print('Opened database successfully.');\n",
        "c = conn.cursor()\n",
        "\n",
        "# delete content in database\n",
        "\n",
        "sql_delete = \"\"\" DELETE FROM docmag\"\"\"\n",
        "c.execute(sql_delete)\n",
        "\n",
        "# Inserting data from doc_mag\n",
        "with open(\"/content/drive/My Drive/doc_mag.txt\") as file1:\n",
        "    f11 = file1.readlines()\n",
        "    # print(f11)\n",
        "for x in f11:\n",
        "  \n",
        "   x.strip()\n",
        "   x = re.findall(r'\\d+\\.?\\d*', x)\n",
        "  #  print(x)\n",
        "   sql = \"\"\"insert into docmag(docid,maxf,mag) values (?,?,?)\"\"\"\n",
        "   c.execute(sql,(str(x[0]),x[1],x[2]))\n",
        "   conn.commit()"
      ],
      "execution_count": 5,
      "outputs": [
        {
          "output_type": "stream",
          "text": [
            "Opened database successfully.\n"
          ],
          "name": "stdout"
        }
      ]
    },
    {
      "cell_type": "code",
      "metadata": {
        "id": "TUYKI5JICQqx"
      },
      "source": [
        "\n",
        "sql_delete = \"\"\" DELETE FROM postings\"\"\"\n",
        "c.execute(sql_delete)\n",
        "# Inserting data from inv_txt\n",
        "with open(\"/content/drive/My Drive/inv_idx.txt\") as file2:\n",
        "    f22 = file2.readlines()\n",
        "\n",
        "for x in f22:\n",
        "   y = re.findall(r'\\'(.*)\\'[^\\[]*(\\[.*\\])', x)\n",
        "   #print(y[0][0]) \n",
        "   sql_1 = \"INSERT INTO postings VALUES (?,?)\"\n",
        "   c.execute(sql_1,[y[0][0],y[0][1]])\n",
        "   conn.commit()"
      ],
      "execution_count": 6,
      "outputs": []
    },
    {
      "cell_type": "code",
      "metadata": {
        "colab": {
          "base_uri": "https://localhost:8080/"
        },
        "id": "Z0x_0QWICWVZ",
        "outputId": "cc1012f9-7020-4cec-d950-aeababf54d12"
      },
      "source": [
        "sql_look = \"\"\" SELECT * FROM docmag \"\"\"\n",
        "c.execute(sql_look)\n",
        "print(c.fetchone())\n",
        "sql_look = \"\"\" SELECT * FROM postings \"\"\"\n",
        "c.execute(sql_look)\n",
        "print(c.fetchone())\n",
        "#conn.close()"
      ],
      "execution_count": 7,
      "outputs": [
        {
          "output_type": "stream",
          "text": [
            "(4, 14, 2.7653061224489752)\n",
            "('feb', \"[(4, 1, '0.014285714285714285'), (5, 1, '0.033333333333333333'), (1, 1, '0.014285714285714285'), (2, 1, '0.040000000000000008'), (3, 1, '0.066666666666666666')]\")\n"
          ],
          "name": "stdout"
        }
      ]
    },
    {
      "cell_type": "code",
      "metadata": {
        "colab": {
          "base_uri": "https://localhost:8080/"
        },
        "id": "9qgqssVIChsa",
        "outputId": "4baa935b-7873-4c70-f054-15d2613d1c30"
      },
      "source": [
        "import nltk\n",
        "nltk.download('stopwords')\n",
        "from bs4 import BeautifulSoup\n",
        "import collections\n",
        "from collections import Counter\n",
        "import re\n",
        "nltk.download('punkt')\n",
        "\n",
        "from nltk.corpus import stopwords\n",
        "from nltk.tokenize import word_tokenize\n",
        "stop_words = set(stopwords.words('english'))"
      ],
      "execution_count": 8,
      "outputs": [
        {
          "output_type": "stream",
          "text": [
            "[nltk_data] Downloading package stopwords to /root/nltk_data...\n",
            "[nltk_data]   Unzipping corpora/stopwords.zip.\n",
            "[nltk_data] Downloading package punkt to /root/nltk_data...\n",
            "[nltk_data]   Unzipping tokenizers/punkt.zip.\n"
          ],
          "name": "stdout"
        }
      ]
    },
    {
      "cell_type": "code",
      "metadata": {
        "colab": {
          "base_uri": "https://localhost:8080/"
        },
        "id": "W8HcZ4OhCpjP",
        "outputId": "46e28f32-6d84-44f7-b02e-9eb99eae04b5"
      },
      "source": [
        "import ipywidgets as widgets\n",
        "from IPython.display import display\n",
        "%xmode Verbose\n",
        "import math\n",
        "import itertools\n",
        "import operator\n",
        "\n",
        "def findOccurrences(s, ch):\n",
        "    return [i for i, letter in enumerate(s) if letter == ch]\n",
        "\n",
        "def findstring(string,start,end):\n",
        "  rank = str()\n",
        "  start = start-1\n",
        "  end = end-1\n",
        "  for index in range(start,end):\n",
        "    rank = rank + string[index]\n",
        "  return rank\n",
        "\n",
        "def findvallist(string,start,end):\n",
        "   value = list()\n",
        "   #print(start,end)\n",
        "   for no in range(0,len(start)):\n",
        "     act_val = findstring(string,start[no],end[no])\n",
        "     value.append(act_val)\n",
        "   return value\n",
        "\n",
        "def onclick(event):\n",
        "  with result:\n",
        "    new(keyword.value)\n",
        "\n",
        "def new(query):\n",
        "  keyword = query\n",
        "  #cleaning our search  query\n",
        "\n",
        "  keyword = str(keyword).lower() #convert into lowercase\n",
        "  cleantext = BeautifulSoup(keyword).get_text()\n",
        "\n",
        "  cleantext = re.sub(\"\\d+\", \" \", cleantext) #remove digits\n",
        "  cleantext = re.sub('[^A-Za-z0-9]+', ' ', cleantext) #remove special characters\n",
        "  cleantext = re.sub(\"\\s+\", \" \", cleantext) #remove extra spaces\n",
        "\n",
        "  cleantext = word_tokenize(cleantext)\n",
        "  cleantext = [word for word in cleantext if word not in stopwords.words('english')]\n",
        "  counter = Counter(cleantext)\n",
        "  query = dict()\n",
        "  maxf = Counter(cleantext).most_common(1)[0][1]\n",
        "  #maxf of our search query\n",
        "\n",
        "  # (word, [(freq,tfidf), ...])\n",
        "  docfreq = 0\n",
        "  for ele in counter:\n",
        "    tf = counter[ele]/maxf\n",
        "    query[ele] = tf\n",
        "    docfreq = docfreq + (tf * tf)\n",
        "  docfreq = math.sqrt(docfreq)\n",
        "  #print(docfreq)\n",
        "  #print(query)\n",
        "  sql=\"select * from postings where word in ({seq})\".format(\n",
        "    seq=','.join(['?']*len(cleantext)))\n",
        "\n",
        "  c.execute(sql, cleantext)\n",
        "  result = c.fetchall()\n",
        "  #print(result)\n",
        "  # (word, [(did,freq,tfidf), ...])\n",
        "  # (did, (maxf,magnitude squared))\n",
        "  all_docs_arr = dict()\n",
        "  docid = list()\n",
        "  for row in result:\n",
        "    #print(row)\n",
        "    row1 = row[1]\n",
        "    #print(row1)\n",
        "    docs = findOccurrences(row1,'(')\n",
        "    for value in docs:\n",
        "      docid.extend(row1[value+1])\n",
        "    #print(docid)\n",
        "    vals = findOccurrences(row1,'.')\n",
        "    #print('values=',vals)\n",
        "    ends = findOccurrences(row1,')')\n",
        "    #print('end=',ends)\n",
        "    docvalues = findvallist(row1,vals,ends)\n",
        "    #print(docvalues)\n",
        "    for x in range(0,len(docvalues)):\n",
        "      all_docs_arr[docid[x]] = docvalues[x]\n",
        "  #print(all_docs_arr)\n",
        "  docids_unique = list(all_docs_arr.keys())\n",
        "  #print(docids_unique)\n",
        "\n",
        "\n",
        "  docs_maxf = {}\n",
        "  for vals in docids_unique:\n",
        "    sql_look = \"\"\" SELECT * FROM docmag where docid = ? \"\"\"\n",
        "    c.execute(sql_look, [vals])\n",
        "    result_docs = c.fetchall()\n",
        "    #print(result_docs)\n",
        "    for val in result_docs:\n",
        "      docs_maxf[str(val[0])] = val[2]\n",
        "  #print(docs_maxf)\n",
        "\n",
        "  cosine_similarity = {}\n",
        "  for docid in docids_unique:\n",
        "    numerator = 0\n",
        "    #print(docid)\n",
        "    for text in cleantext:\n",
        "      #print(cleantext)\n",
        "      try:\n",
        "        tfifd_doc = float(all_docs_arr[docid])\n",
        "        #print(tfifd_doc)\n",
        "        tf_query  = float(query[text])\n",
        "        numerator = numerator + (tfifd_doc*tf_query)\n",
        "        denominator = docs_maxf.get(docid)*docfreq\n",
        "      except:\n",
        "        break\n",
        "    try:\n",
        "      denominator = docs_maxf.get(docid)*docfreq\n",
        "      #print(numerator,denominator)\n",
        "      cosine_similarity[docid] = (numerator/denominator)\n",
        "      #print(cosine_similarity)\n",
        "    except:\n",
        "      break\n",
        "  highest_first = sorted(cosine_similarity.items(),key=operator.itemgetter(1),reverse=True)\n",
        "  #print(highest_first)\n",
        "  print(\"Results fetched in docids from highest similar to lowest\")\n",
        "  for rows in highest_first:\n",
        "    print(rows[0])"
      ],
      "execution_count": 9,
      "outputs": [
        {
          "output_type": "stream",
          "text": [
            "Exception reporting mode: Verbose\n"
          ],
          "name": "stdout"
        }
      ]
    },
    {
      "cell_type": "code",
      "metadata": {
        "colab": {
          "base_uri": "https://localhost:8080/",
          "height": 81,
          "referenced_widgets": [
            "35595833a4dd41bc95276452fd0e3873",
            "58d1b086df9946cca27bde497919e017",
            "f5270673bf5e475d8d3d1f4cc6436e18",
            "b2da9f12bd3746e4809d718c3f181682",
            "16b4a6b9216f4c418b788655e2a4dbd7",
            "2f678beda62242d39f19ca5dc57d4a59",
            "e7750f2edf51459b838d1e013364b5df",
            "f38036f6963d4d3c90427fa6b5c9c68e"
          ]
        },
        "id": "jafCvI25CumR",
        "outputId": "17dca7d8-7201-4c43-a745-2676d438655d"
      },
      "source": [
        "import ipywidgets as widgets\n",
        "from IPython.display import display\n",
        "\n",
        "keyword = widgets.Text(placeholder= 'Enter search query')\n",
        "search_button = widgets.Button(description='Search')\n",
        "result = widgets.Output()\n",
        "\n",
        "display(keyword,search_button,result)\n",
        "\n",
        "search_button.on_click(onclick)"
      ],
      "execution_count": 10,
      "outputs": [
        {
          "output_type": "display_data",
          "data": {
            "application/vnd.jupyter.widget-view+json": {
              "model_id": "35595833a4dd41bc95276452fd0e3873",
              "version_minor": 0,
              "version_major": 2
            },
            "text/plain": [
              "Text(value='', placeholder='Enter search query')"
            ]
          },
          "metadata": {
            "tags": []
          }
        },
        {
          "output_type": "display_data",
          "data": {
            "application/vnd.jupyter.widget-view+json": {
              "model_id": "b2da9f12bd3746e4809d718c3f181682",
              "version_minor": 0,
              "version_major": 2
            },
            "text/plain": [
              "Button(description='Search', style=ButtonStyle())"
            ]
          },
          "metadata": {
            "tags": []
          }
        },
        {
          "output_type": "display_data",
          "data": {
            "application/vnd.jupyter.widget-view+json": {
              "model_id": "e7750f2edf51459b838d1e013364b5df",
              "version_minor": 0,
              "version_major": 2
            },
            "text/plain": [
              "Output()"
            ]
          },
          "metadata": {
            "tags": []
          }
        }
      ]
    }
  ]
}